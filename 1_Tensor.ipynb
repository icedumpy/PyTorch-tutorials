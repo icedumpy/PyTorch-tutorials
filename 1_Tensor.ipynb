{
  "nbformat": 4,
  "nbformat_minor": 0,
  "metadata": {
    "colab": {
      "name": "1. Tensor.ipynb",
      "provenance": [],
      "collapsed_sections": [],
      "authorship_tag": "ABX9TyPeaPw7CEddZ8SIJoqt6sjI",
      "include_colab_link": true
    },
    "kernelspec": {
      "name": "python3",
      "display_name": "Python 3"
    },
    "accelerator": "GPU"
  },
  "cells": [
    {
      "cell_type": "markdown",
      "metadata": {
        "id": "view-in-github",
        "colab_type": "text"
      },
      "source": [
        "<a href=\"https://colab.research.google.com/github/icedumpy/PyTorch-tutorials/blob/main/1_Tensor.ipynb\" target=\"_parent\"><img src=\"https://colab.research.google.com/assets/colab-badge.svg\" alt=\"Open In Colab\"/></a>"
      ]
    },
    {
      "cell_type": "markdown",
      "metadata": {
        "id": "E4YYtc4M_YiD"
      },
      "source": [
        "[Tensors](https://pytorch.org/tutorials/beginner/blitz/tensor_tutorial.html#sphx-glr-beginner-blitz-tensor-tutorial-py)"
      ]
    },
    {
      "cell_type": "markdown",
      "metadata": {
        "id": "-A4MH4HH_SJd"
      },
      "source": [
        "# **Tensor**"
      ]
    },
    {
      "cell_type": "markdown",
      "metadata": {
        "id": "r4DBlieDAKCE"
      },
      "source": [
        "* Tensors are a specialized data structure that are very similar to arrays and matrices. In PyTorch, we use tensors to encode the inputs and outputs of a model, as well as the model's parameters.\r\n",
        "\r\n",
        "* Tensors are similar to Numpy's ndarrays, except that tensors can run on GPUs or other specialized hardware to accelerate computing. If you're familiar with ndarrays, you'll be right at home with the Tensor API. If not, follow along in this quick API walkthrough.\r\n",
        "\r\n"
      ]
    },
    {
      "cell_type": "markdown",
      "metadata": {
        "id": "Wy8pFS7dA9H8"
      },
      "source": [
        "# Import libraries"
      ]
    },
    {
      "cell_type": "code",
      "metadata": {
        "id": "0MKZIqLL_D_p"
      },
      "source": [
        "import torch\r\n",
        "import numpy as np"
      ],
      "execution_count": 1,
      "outputs": []
    },
    {
      "cell_type": "markdown",
      "metadata": {
        "id": "4SrHrb4GBFL8"
      },
      "source": [
        "# Tensor initialization"
      ]
    },
    {
      "cell_type": "markdown",
      "metadata": {
        "id": "OZYq6ulqBItU"
      },
      "source": [
        "* Tensors can be initialized in various ways. Take a look at the following examples:"
      ]
    },
    {
      "cell_type": "markdown",
      "metadata": {
        "id": "8nLS8v2gBW8F"
      },
      "source": [
        "## Directly from data"
      ]
    },
    {
      "cell_type": "markdown",
      "metadata": {
        "id": "mU4JUy9sBfOE"
      },
      "source": [
        "* Tensors can be created directly from data. The data type is automatically inferred."
      ]
    },
    {
      "cell_type": "code",
      "metadata": {
        "colab": {
          "base_uri": "https://localhost:8080/"
        },
        "id": "FCEmxKdB_X3m",
        "outputId": "f7df2575-f3f8-4329-a06e-1ed9995bc69f"
      },
      "source": [
        "data = [[1, 2], [3, 4]]\r\n",
        "x_data = torch.tensor(data)\r\n",
        "print(x_data)"
      ],
      "execution_count": 2,
      "outputs": [
        {
          "output_type": "stream",
          "text": [
            "tensor([[1, 2],\n",
            "        [3, 4]])\n"
          ],
          "name": "stdout"
        }
      ]
    },
    {
      "cell_type": "markdown",
      "metadata": {
        "id": "zro8VWC1CHPB"
      },
      "source": [
        "## From a NumPy array"
      ]
    },
    {
      "cell_type": "markdown",
      "metadata": {
        "id": "GAZ3Tq7qCJW0"
      },
      "source": [
        "* Tensors can be created from NumPy arrays (and vice versa - see **Bridge with NumPy**).\r\n",
        "\r\n"
      ]
    },
    {
      "cell_type": "code",
      "metadata": {
        "colab": {
          "base_uri": "https://localhost:8080/"
        },
        "id": "G95UMNnEBvIG",
        "outputId": "642f75f2-5519-4543-ff57-8bfb3412e277"
      },
      "source": [
        "data = [[1, 2], [3, 4]]\r\n",
        "np_array = np.array(data)\r\n",
        "x_np = torch.from_numpy(np_array)\r\n",
        "print(x_np)"
      ],
      "execution_count": 3,
      "outputs": [
        {
          "output_type": "stream",
          "text": [
            "tensor([[1, 2],\n",
            "        [3, 4]])\n"
          ],
          "name": "stdout"
        }
      ]
    },
    {
      "cell_type": "markdown",
      "metadata": {
        "id": "F2_wlEMpOrbd"
      },
      "source": [
        "## From another tensor"
      ]
    },
    {
      "cell_type": "markdown",
      "metadata": {
        "id": "cevW0aidOwBq"
      },
      "source": [
        "* The new tensor retains the properties (shape, datatype) of the argument tensor, unless explicitly overridden."
      ]
    },
    {
      "cell_type": "code",
      "metadata": {
        "colab": {
          "base_uri": "https://localhost:8080/"
        },
        "id": "O8qvdqjtO8I6",
        "outputId": "02d8457f-b363-4408-df7b-18068568f6e3"
      },
      "source": [
        "x_ones = torch.ones_like(x_data) # retains the properties of x_data\r\n",
        "print(f\"Ones Tensor: \\n{x_ones} \\n\")\r\n",
        "\r\n",
        "x_rand = torch.rand_like(x_data, dtype=torch.float) # overrides the datatype of x_data\r\n",
        "print(f\"Random Tensor: \\n{x_rand} \\n\")"
      ],
      "execution_count": 4,
      "outputs": [
        {
          "output_type": "stream",
          "text": [
            "Ones Tensor: \n",
            "tensor([[1, 1],\n",
            "        [1, 1]]) \n",
            "\n",
            "Random Tensor: \n",
            "tensor([[0.0483, 0.9258],\n",
            "        [0.7740, 0.6805]]) \n",
            "\n"
          ],
          "name": "stdout"
        }
      ]
    },
    {
      "cell_type": "markdown",
      "metadata": {
        "id": "EdrrYj2uSEWd"
      },
      "source": [
        "## With random or constant values"
      ]
    },
    {
      "cell_type": "markdown",
      "metadata": {
        "id": "wWpWV-dvSIfn"
      },
      "source": [
        "* *shape* is a tuple of tensor dimensions. In the function below, it determines the demintionality of the output tensor."
      ]
    },
    {
      "cell_type": "code",
      "metadata": {
        "colab": {
          "base_uri": "https://localhost:8080/"
        },
        "id": "ao_PJlxZSWc8",
        "outputId": "7e367577-8249-4c98-f655-32a28d2efd75"
      },
      "source": [
        "shape = (2, 3, )\r\n",
        "rand_tensor = torch.rand(shape)\r\n",
        "ones_tensor = torch.ones(shape)\r\n",
        "zeros_tensor = torch.zeros(shape)\r\n",
        "\r\n",
        "print(f\"Random Tensor: \\n{rand_tensor} \\n\")\r\n",
        "print(f\"Ones Tensor: \\n{ones_tensor} \\n\")\r\n",
        "print(f\"Zeros Tensor: \\n{zeros_tensor}\")"
      ],
      "execution_count": 5,
      "outputs": [
        {
          "output_type": "stream",
          "text": [
            "Random Tensor: \n",
            "tensor([[0.7791, 0.4190, 0.0527],\n",
            "        [0.2046, 0.8624, 0.1202]]) \n",
            "\n",
            "Ones Tensor: \n",
            "tensor([[1., 1., 1.],\n",
            "        [1., 1., 1.]]) \n",
            "\n",
            "Zeros Tensor: \n",
            "tensor([[0., 0., 0.],\n",
            "        [0., 0., 0.]])\n"
          ],
          "name": "stdout"
        }
      ]
    },
    {
      "cell_type": "markdown",
      "metadata": {
        "id": "HPwpQ0e1TFYA"
      },
      "source": [
        "## Tensor Attributes"
      ]
    },
    {
      "cell_type": "markdown",
      "metadata": {
        "id": "B5--h4hYTIVb"
      },
      "source": [
        "* Tensor attributes describe their shape, datatype, and the device on which they are stored."
      ]
    },
    {
      "cell_type": "code",
      "metadata": {
        "colab": {
          "base_uri": "https://localhost:8080/"
        },
        "id": "dvDKq938THk7",
        "outputId": "8bef2bf7-1cee-4b52-89e9-656c92d88385"
      },
      "source": [
        "tensor = torch.rand(3, 4)\r\n",
        "\r\n",
        "print(f\"Shape of tensor: {tensor.shape}\")\r\n",
        "print(f\"Datatype of tensor: {tensor.dtype}\")\r\n",
        "print(f\"Device tensor is stored on: {tensor.device}\")"
      ],
      "execution_count": 6,
      "outputs": [
        {
          "output_type": "stream",
          "text": [
            "Shape of tensor: torch.Size([3, 4])\n",
            "Datatype of tensor: torch.float32\n",
            "Device tensor is stored on: cpu\n"
          ],
          "name": "stdout"
        }
      ]
    },
    {
      "cell_type": "markdown",
      "metadata": {
        "id": "-Z_sIm7aUQ42"
      },
      "source": [
        "# Tensor Operations"
      ]
    },
    {
      "cell_type": "markdown",
      "metadata": {
        "id": "jRXtZU-xUTo8"
      },
      "source": [
        "* Over 100 tensor operations, including transposing, indexing, slicing, mathematical operations, linear algebra, random sampling, and more are comprehensively describe [here](https://pytorch.org/docs/stable/torch.html).\r\n",
        "\r\n",
        "* Each of them can be run on the GPU (at typically higher speeds than on a CPU). If you're using Colab, allocate a GPU by going to Edit > Notebook Settings (On google colab)."
      ]
    },
    {
      "cell_type": "code",
      "metadata": {
        "colab": {
          "base_uri": "https://localhost:8080/"
        },
        "id": "v5ekwAhYUSoQ",
        "outputId": "ed24547f-f216-4b9f-927d-79fac6e2a558"
      },
      "source": [
        "# We move our tensor to the GPU if available\r\n",
        "print(tensor.device)\r\n",
        "if torch.cuda.is_available():\r\n",
        "    tensor = tensor.to(\"cuda\")\r\n",
        "    print(tensor.device)"
      ],
      "execution_count": 7,
      "outputs": [
        {
          "output_type": "stream",
          "text": [
            "cpu\n",
            "cuda:0\n"
          ],
          "name": "stdout"
        }
      ]
    },
    {
      "cell_type": "markdown",
      "metadata": {
        "id": "tZa6YZnHVf09"
      },
      "source": [
        "* Try out some of the operations from the list. If you're familiar with the NumPy API, you'll find the Tensor API a breeze to use."
      ]
    },
    {
      "cell_type": "markdown",
      "metadata": {
        "id": "twXTvBGFVuAn"
      },
      "source": [
        "## Standard numpy-like indexing and slicing"
      ]
    },
    {
      "cell_type": "code",
      "metadata": {
        "colab": {
          "base_uri": "https://localhost:8080/"
        },
        "id": "lzD6ne6xVxqk",
        "outputId": "dad87c6b-a612-4468-81a6-7e09943020af"
      },
      "source": [
        "tensor = torch.ones(4, 4)\r\n",
        "tensor[:, 1] = 0 # I can assume that I'm using Numpy.\r\n",
        "print(tensor)"
      ],
      "execution_count": 9,
      "outputs": [
        {
          "output_type": "stream",
          "text": [
            "tensor([[1., 0., 1., 1.],\n",
            "        [1., 0., 1., 1.],\n",
            "        [1., 0., 1., 1.],\n",
            "        [1., 0., 1., 1.]])\n"
          ],
          "name": "stdout"
        }
      ]
    },
    {
      "cell_type": "markdown",
      "metadata": {
        "id": "rPGMC-cOW6Fu"
      },
      "source": [
        "## Joining tensors"
      ]
    },
    {
      "cell_type": "markdown",
      "metadata": {
        "id": "wuQ9fLQHXOq4"
      },
      "source": [
        "* You can use torch.caat to concatnate a sequence of tensors along a given dimension. See also [torch.stack](https://pytorch.org/docs/stable/generated/torch.stack.html), another tensor joining op that is subtly different from *torch.cat*"
      ]
    },
    {
      "cell_type": "code",
      "metadata": {
        "colab": {
          "base_uri": "https://localhost:8080/"
        },
        "id": "HW0Sq-UaB0ct",
        "outputId": "d5009d93-729a-4704-9ecf-8d2624839ac5"
      },
      "source": [
        "# torch.cat\r\n",
        "t1 = torch.cat([tensor, tensor, tensor], dim=1) # dim == axis\r\n",
        "print(tensor.shape, t1.shape)\r\n",
        "\r\n",
        "#  torch.stack\r\n",
        "t2 = torch.stack([tensor, tensor, tensor], dim=0) # dim == axis\r\n",
        "print(tensor.shape, t2.shape)"
      ],
      "execution_count": 19,
      "outputs": [
        {
          "output_type": "stream",
          "text": [
            "torch.Size([4, 4]) torch.Size([4, 12])\n",
            "torch.Size([4, 4]) torch.Size([3, 4, 4])\n"
          ],
          "name": "stdout"
        }
      ]
    },
    {
      "cell_type": "markdown",
      "metadata": {
        "id": "jOp4GbtXYHQO"
      },
      "source": [
        "## Multiplying tensors"
      ]
    },
    {
      "cell_type": "markdown",
      "metadata": {
        "id": "Sa9v97BDZRLP"
      },
      "source": [
        "* Element-wise product"
      ]
    },
    {
      "cell_type": "code",
      "metadata": {
        "colab": {
          "base_uri": "https://localhost:8080/"
        },
        "id": "rg6NtIyMDKXo",
        "outputId": "ef32dd7d-4427-4a68-87ae-74da31d02f27"
      },
      "source": [
        "B = torch.tensor([\r\n",
        "    [1, 2, 3, 4], \r\n",
        "    [5, 6, 7, 8],\r\n",
        "    [9, 10, 11, 12], \r\n",
        "    [13, 14, 15, 16]\r\n",
        "])\r\n",
        "\r\n",
        "print(f\"tensor = {tensor}\")\r\n",
        "print(f\"B = {B}\\n\")\r\n",
        "\r\n",
        "# This computs  the element-wise product\r\n",
        "print(f\"tensor.mul(tensor)\\n{tensor.mul(B)}\\n\")\r\n",
        "\r\n",
        "# Alternative syntax:\r\n",
        "print(f\"tensor * B \\n {tensor * B}\")"
      ],
      "execution_count": 33,
      "outputs": [
        {
          "output_type": "stream",
          "text": [
            "tensor = tensor([[1., 0., 1., 1.],\n",
            "        [1., 0., 1., 1.],\n",
            "        [1., 0., 1., 1.],\n",
            "        [1., 0., 1., 1.]])\n",
            "B = tensor([[ 1,  2,  3,  4],\n",
            "        [ 5,  6,  7,  8],\n",
            "        [ 9, 10, 11, 12],\n",
            "        [13, 14, 15, 16]])\n",
            "\n",
            "tensor.mul(tensor)\n",
            "tensor([[ 1.,  0.,  3.,  4.],\n",
            "        [ 5.,  0.,  7.,  8.],\n",
            "        [ 9.,  0., 11., 12.],\n",
            "        [13.,  0., 15., 16.]])\n",
            "\n",
            "tensor * B \n",
            " tensor([[ 1.,  0.,  3.,  4.],\n",
            "        [ 5.,  0.,  7.,  8.],\n",
            "        [ 9.,  0., 11., 12.],\n",
            "        [13.,  0., 15., 16.]])\n"
          ],
          "name": "stdout"
        }
      ]
    },
    {
      "cell_type": "markdown",
      "metadata": {
        "id": "DqKsdO-_ZajH"
      },
      "source": [
        "* This computes the matrix multiplication between two tensorw"
      ]
    },
    {
      "cell_type": "code",
      "metadata": {
        "colab": {
          "base_uri": "https://localhost:8080/"
        },
        "id": "KN8m-F_zYUs6",
        "outputId": "b4001142-9178-4a06-d330-140655a37dbe"
      },
      "source": [
        "print(f\"tensor.matmul(tensor.T) \\n {tensor.matmul(tensor.T)} \\n\")\r\n",
        "\r\n",
        "# Alternative syntax:\r\n",
        "print(f\"tensor @ tensor.T \\n {tensor @ tensor.T} \\n \")"
      ],
      "execution_count": 37,
      "outputs": [
        {
          "output_type": "stream",
          "text": [
            "tensor.matmul(tensor.T) \n",
            " tensor([[3., 3., 3., 3.],\n",
            "        [3., 3., 3., 3.],\n",
            "        [3., 3., 3., 3.],\n",
            "        [3., 3., 3., 3.]]) \n",
            "\n",
            "tensor @ tensor.T \n",
            " tensor([[3., 3., 3., 3.],\n",
            "        [3., 3., 3., 3.],\n",
            "        [3., 3., 3., 3.],\n",
            "        [3., 3., 3., 3.]]) \n",
            " \n"
          ],
          "name": "stdout"
        }
      ]
    },
    {
      "cell_type": "markdown",
      "metadata": {
        "id": "lZRV731wZ4Nr"
      },
      "source": [
        "## In-place operations"
      ]
    },
    {
      "cell_type": "markdown",
      "metadata": {
        "id": "8eg2PtRIZ60n"
      },
      "source": [
        "* Operations that have a _ suffix are in-place. For example: **x.copy_(y)**, **x.t_()**, will change x.\r\n",
        "\r\n",
        "* In-place operations save some memory, but can be problematic when computing derivatives because of an immediate loss of history. Hence, their use is discouraged."
      ]
    },
    {
      "cell_type": "code",
      "metadata": {
        "colab": {
          "base_uri": "https://localhost:8080/"
        },
        "id": "UpvKUrEYYZhQ",
        "outputId": "cbfa9909-fc04-4ac9-c8e2-2bbfd0959546"
      },
      "source": [
        "print(tensor, \"\\n\")\r\n",
        "tensor.add_(5)\r\n",
        "print(tensor)"
      ],
      "execution_count": 38,
      "outputs": [
        {
          "output_type": "stream",
          "text": [
            "tensor([[1., 0., 1., 1.],\n",
            "        [1., 0., 1., 1.],\n",
            "        [1., 0., 1., 1.],\n",
            "        [1., 0., 1., 1.]]) \n",
            "\n",
            "tensor([[6., 5., 6., 6.],\n",
            "        [6., 5., 6., 6.],\n",
            "        [6., 5., 6., 6.],\n",
            "        [6., 5., 6., 6.]])\n"
          ],
          "name": "stdout"
        }
      ]
    },
    {
      "cell_type": "markdown",
      "metadata": {
        "id": "9GYdpTMoakCb"
      },
      "source": [
        "# Bridge with NumPy"
      ]
    },
    {
      "cell_type": "markdown",
      "metadata": {
        "id": "C_Qvp9x9axyR"
      },
      "source": [
        "* Tensors on the CPU and NumPy arrays can share their underlying memory locations, and changing one will change the other."
      ]
    },
    {
      "cell_type": "markdown",
      "metadata": {
        "id": "5pWPLg-jbD_o"
      },
      "source": [
        "## Tensor to NumPy array"
      ]
    },
    {
      "cell_type": "code",
      "metadata": {
        "colab": {
          "base_uri": "https://localhost:8080/"
        },
        "id": "VktaSRw8al1b",
        "outputId": "f5593593-1c0d-4b38-9120-83a3341cc278"
      },
      "source": [
        "t = torch.ones(5)\r\n",
        "print(f\"t: {t}\")\r\n",
        "n = t.numpy()\r\n",
        "print(f\"n: {n}\")"
      ],
      "execution_count": 43,
      "outputs": [
        {
          "output_type": "stream",
          "text": [
            "t: tensor([1., 1., 1., 1., 1.])\n",
            "n: [1. 1. 1. 1. 1.]\n"
          ],
          "name": "stdout"
        }
      ]
    },
    {
      "cell_type": "markdown",
      "metadata": {
        "id": "KDLznhFwa-Jr"
      },
      "source": [
        "*  A change in the tensor reflects in the NumPy array."
      ]
    },
    {
      "cell_type": "code",
      "metadata": {
        "colab": {
          "base_uri": "https://localhost:8080/"
        },
        "id": "HnJcZLt7aOLf",
        "outputId": "ad125ade-3ab3-4409-9ce6-e358b3e6a606"
      },
      "source": [
        "t.add_(1)\r\n",
        "print(f\"t: {t}\")\r\n",
        "print(f\"n: {n}\")"
      ],
      "execution_count": 44,
      "outputs": [
        {
          "output_type": "stream",
          "text": [
            "t: tensor([2., 2., 2., 2., 2.])\n",
            "n: [2. 2. 2. 2. 2.]\n"
          ],
          "name": "stdout"
        }
      ]
    },
    {
      "cell_type": "markdown",
      "metadata": {
        "id": "ioa02tCdbGvb"
      },
      "source": [
        "## NumPy array to Tensor"
      ]
    },
    {
      "cell_type": "code",
      "metadata": {
        "id": "m7R_cUeYanqB"
      },
      "source": [
        "n = np.ones(5)\r\n",
        "t = torch.from_numpy(n)"
      ],
      "execution_count": 46,
      "outputs": []
    },
    {
      "cell_type": "markdown",
      "metadata": {
        "id": "FgwHFHkqbO8P"
      },
      "source": [
        "* Changes in the NumPy array reflects in the tensor.\r\n",
        "\r\n"
      ]
    },
    {
      "cell_type": "code",
      "metadata": {
        "colab": {
          "base_uri": "https://localhost:8080/"
        },
        "id": "qLzanm-UbPzP",
        "outputId": "da15e3b2-ea0e-41b1-b7a9-59703d7bdbe9"
      },
      "source": [
        "np.add(n, 1, out=n) # In-place\r\n",
        "print(f\"t: {t}\")\r\n",
        "print(f\"n: {n}\")"
      ],
      "execution_count": 47,
      "outputs": [
        {
          "output_type": "stream",
          "text": [
            "t: tensor([2., 2., 2., 2., 2.], dtype=torch.float64)\n",
            "n: [2. 2. 2. 2. 2.]\n"
          ],
          "name": "stdout"
        }
      ]
    },
    {
      "cell_type": "code",
      "metadata": {
        "id": "xP_B1baxbMha"
      },
      "source": [
        ""
      ],
      "execution_count": null,
      "outputs": []
    }
  ]
}