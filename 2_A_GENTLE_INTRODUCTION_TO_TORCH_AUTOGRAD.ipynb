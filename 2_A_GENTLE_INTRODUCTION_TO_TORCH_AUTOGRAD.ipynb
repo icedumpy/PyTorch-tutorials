{
  "nbformat": 4,
  "nbformat_minor": 0,
  "metadata": {
    "colab": {
      "name": "2. A GENTLE INTRODUCTION TO TORCH.AUTOGRAD.ipynb",
      "provenance": [],
      "collapsed_sections": [],
      "toc_visible": true,
      "authorship_tag": "ABX9TyMmDTECZDlZf7flA2YZDpRg",
      "include_colab_link": true
    },
    "kernelspec": {
      "name": "python3",
      "display_name": "Python 3"
    },
    "accelerator": "GPU",
    "widgets": {
      "application/vnd.jupyter.widget-state+json": {
        "5190cb817f354fe2903a7478bacec582": {
          "model_module": "@jupyter-widgets/controls",
          "model_name": "HBoxModel",
          "state": {
            "_view_name": "HBoxView",
            "_dom_classes": [],
            "_model_name": "HBoxModel",
            "_view_module": "@jupyter-widgets/controls",
            "_model_module_version": "1.5.0",
            "_view_count": null,
            "_view_module_version": "1.5.0",
            "box_style": "",
            "layout": "IPY_MODEL_1b124b414d6b47ff839277da8987db97",
            "_model_module": "@jupyter-widgets/controls",
            "children": [
              "IPY_MODEL_07f451b7dd5a4bd786a42817fb0133ec",
              "IPY_MODEL_c2611702e0fd451bbcfd9f03c1968cdb"
            ]
          }
        },
        "1b124b414d6b47ff839277da8987db97": {
          "model_module": "@jupyter-widgets/base",
          "model_name": "LayoutModel",
          "state": {
            "_view_name": "LayoutView",
            "grid_template_rows": null,
            "right": null,
            "justify_content": null,
            "_view_module": "@jupyter-widgets/base",
            "overflow": null,
            "_model_module_version": "1.2.0",
            "_view_count": null,
            "flex_flow": null,
            "width": null,
            "min_width": null,
            "border": null,
            "align_items": null,
            "bottom": null,
            "_model_module": "@jupyter-widgets/base",
            "top": null,
            "grid_column": null,
            "overflow_y": null,
            "overflow_x": null,
            "grid_auto_flow": null,
            "grid_area": null,
            "grid_template_columns": null,
            "flex": null,
            "_model_name": "LayoutModel",
            "justify_items": null,
            "grid_row": null,
            "max_height": null,
            "align_content": null,
            "visibility": null,
            "align_self": null,
            "height": null,
            "min_height": null,
            "padding": null,
            "grid_auto_rows": null,
            "grid_gap": null,
            "max_width": null,
            "order": null,
            "_view_module_version": "1.2.0",
            "grid_template_areas": null,
            "object_position": null,
            "object_fit": null,
            "grid_auto_columns": null,
            "margin": null,
            "display": null,
            "left": null
          }
        },
        "07f451b7dd5a4bd786a42817fb0133ec": {
          "model_module": "@jupyter-widgets/controls",
          "model_name": "FloatProgressModel",
          "state": {
            "_view_name": "ProgressView",
            "style": "IPY_MODEL_4af311e3f3d541368f5a4eeff9f70dbd",
            "_dom_classes": [],
            "description": "100%",
            "_model_name": "FloatProgressModel",
            "bar_style": "success",
            "max": 46827520,
            "_view_module": "@jupyter-widgets/controls",
            "_model_module_version": "1.5.0",
            "value": 46827520,
            "_view_count": null,
            "_view_module_version": "1.5.0",
            "orientation": "horizontal",
            "min": 0,
            "description_tooltip": null,
            "_model_module": "@jupyter-widgets/controls",
            "layout": "IPY_MODEL_ad3ffbd5501541aa97aab70f267d5326"
          }
        },
        "c2611702e0fd451bbcfd9f03c1968cdb": {
          "model_module": "@jupyter-widgets/controls",
          "model_name": "HTMLModel",
          "state": {
            "_view_name": "HTMLView",
            "style": "IPY_MODEL_11de742f3e7541b29a7039b87f10f123",
            "_dom_classes": [],
            "description": "",
            "_model_name": "HTMLModel",
            "placeholder": "​",
            "_view_module": "@jupyter-widgets/controls",
            "_model_module_version": "1.5.0",
            "value": " 44.7M/44.7M [00:04&lt;00:00, 11.0MB/s]",
            "_view_count": null,
            "_view_module_version": "1.5.0",
            "description_tooltip": null,
            "_model_module": "@jupyter-widgets/controls",
            "layout": "IPY_MODEL_7df10ad4721b476a963771de97b3c58f"
          }
        },
        "4af311e3f3d541368f5a4eeff9f70dbd": {
          "model_module": "@jupyter-widgets/controls",
          "model_name": "ProgressStyleModel",
          "state": {
            "_view_name": "StyleView",
            "_model_name": "ProgressStyleModel",
            "description_width": "initial",
            "_view_module": "@jupyter-widgets/base",
            "_model_module_version": "1.5.0",
            "_view_count": null,
            "_view_module_version": "1.2.0",
            "bar_color": null,
            "_model_module": "@jupyter-widgets/controls"
          }
        },
        "ad3ffbd5501541aa97aab70f267d5326": {
          "model_module": "@jupyter-widgets/base",
          "model_name": "LayoutModel",
          "state": {
            "_view_name": "LayoutView",
            "grid_template_rows": null,
            "right": null,
            "justify_content": null,
            "_view_module": "@jupyter-widgets/base",
            "overflow": null,
            "_model_module_version": "1.2.0",
            "_view_count": null,
            "flex_flow": null,
            "width": null,
            "min_width": null,
            "border": null,
            "align_items": null,
            "bottom": null,
            "_model_module": "@jupyter-widgets/base",
            "top": null,
            "grid_column": null,
            "overflow_y": null,
            "overflow_x": null,
            "grid_auto_flow": null,
            "grid_area": null,
            "grid_template_columns": null,
            "flex": null,
            "_model_name": "LayoutModel",
            "justify_items": null,
            "grid_row": null,
            "max_height": null,
            "align_content": null,
            "visibility": null,
            "align_self": null,
            "height": null,
            "min_height": null,
            "padding": null,
            "grid_auto_rows": null,
            "grid_gap": null,
            "max_width": null,
            "order": null,
            "_view_module_version": "1.2.0",
            "grid_template_areas": null,
            "object_position": null,
            "object_fit": null,
            "grid_auto_columns": null,
            "margin": null,
            "display": null,
            "left": null
          }
        },
        "11de742f3e7541b29a7039b87f10f123": {
          "model_module": "@jupyter-widgets/controls",
          "model_name": "DescriptionStyleModel",
          "state": {
            "_view_name": "StyleView",
            "_model_name": "DescriptionStyleModel",
            "description_width": "",
            "_view_module": "@jupyter-widgets/base",
            "_model_module_version": "1.5.0",
            "_view_count": null,
            "_view_module_version": "1.2.0",
            "_model_module": "@jupyter-widgets/controls"
          }
        },
        "7df10ad4721b476a963771de97b3c58f": {
          "model_module": "@jupyter-widgets/base",
          "model_name": "LayoutModel",
          "state": {
            "_view_name": "LayoutView",
            "grid_template_rows": null,
            "right": null,
            "justify_content": null,
            "_view_module": "@jupyter-widgets/base",
            "overflow": null,
            "_model_module_version": "1.2.0",
            "_view_count": null,
            "flex_flow": null,
            "width": null,
            "min_width": null,
            "border": null,
            "align_items": null,
            "bottom": null,
            "_model_module": "@jupyter-widgets/base",
            "top": null,
            "grid_column": null,
            "overflow_y": null,
            "overflow_x": null,
            "grid_auto_flow": null,
            "grid_area": null,
            "grid_template_columns": null,
            "flex": null,
            "_model_name": "LayoutModel",
            "justify_items": null,
            "grid_row": null,
            "max_height": null,
            "align_content": null,
            "visibility": null,
            "align_self": null,
            "height": null,
            "min_height": null,
            "padding": null,
            "grid_auto_rows": null,
            "grid_gap": null,
            "max_width": null,
            "order": null,
            "_view_module_version": "1.2.0",
            "grid_template_areas": null,
            "object_position": null,
            "object_fit": null,
            "grid_auto_columns": null,
            "margin": null,
            "display": null,
            "left": null
          }
        }
      }
    }
  },
  "cells": [
    {
      "cell_type": "markdown",
      "metadata": {
        "id": "view-in-github",
        "colab_type": "text"
      },
      "source": [
        "<a href=\"https://colab.research.google.com/github/icedumpy/PyTorch-tutorials/blob/main/2_A_GENTLE_INTRODUCTION_TO_TORCH_AUTOGRAD.ipynb\" target=\"_parent\"><img src=\"https://colab.research.google.com/assets/colab-badge.svg\" alt=\"Open In Colab\"/></a>"
      ]
    },
    {
      "cell_type": "markdown",
      "metadata": {
        "id": "yyuKgx5lkqNi"
      },
      "source": [
        "[Link](https://pytorch.org/tutorials/beginner/blitz/autograd_tutorial.html#sphx-glr-beginner-blitz-autograd-tutorial-py)"
      ]
    },
    {
      "cell_type": "markdown",
      "metadata": {
        "id": "Z6orNvmef3mz"
      },
      "source": [
        "# **A Gentle Introduction to *torch.autograd***"
      ]
    },
    {
      "cell_type": "markdown",
      "metadata": {
        "id": "ljSXom1Kfvqi"
      },
      "source": [
        "* torch.autograd is PyTorch’s **automatic differentiation engine** that powers neural network training. \r\n",
        "* In this section, you will get a conceptual understanding of how autograd helps a neural network train."
      ]
    },
    {
      "cell_type": "markdown",
      "metadata": {
        "id": "MgRsRGh9gM7b"
      },
      "source": [
        "# Background"
      ]
    },
    {
      "cell_type": "markdown",
      "metadata": {
        "id": "wxETZssIgPXJ"
      },
      "source": [
        "Neural networks (NNs) are a collection of nested functions that are executed on some input data. These functions are defined by parameters (consisting of weights and biases), which in PyTorch are stored in tensors.\r\n",
        "\r\n",
        "Training a NN happens in two steps:\r\n",
        "1. **Forward Propagation**: \r\n",
        "    > In forward prop, the NN makes its best guess about the correct output. It runs the input data through each of its functions to make this guess.\r\n",
        "2. **Backward Propagation**: \r\n",
        "    > In backprop, the NN adjusts its parameters proportionate to the error in its guess. It does this by traversing backwards from the output, collecting the derivatives of the error with respect to the parameters of the functions (gradients), and optimizing the parameters using gradient descent. For a more detailed walkthrough of backprop, check out this video from [3Blue1Brown](https://www.youtube.com/watch?v=tIeHLnjs5U8).\r\n",
        "\r\n"
      ]
    },
    {
      "cell_type": "markdown",
      "metadata": {
        "id": "UB7Iz1Nug7lq"
      },
      "source": [
        "# Usage in PyTorch"
      ]
    },
    {
      "cell_type": "markdown",
      "metadata": {
        "id": "enR-1QH8g-Z0"
      },
      "source": [
        "* Let’s take a look at a single training step. For this example, we load a pretrained ***resnet18*** model from *torchvision*. We create a random data tensor to represent a single image with *3* channels, and height & width of *64*, and its corresponding label initialized to some random values."
      ]
    },
    {
      "cell_type": "code",
      "metadata": {
        "colab": {
          "base_uri": "https://localhost:8080/",
          "height": 82,
          "referenced_widgets": [
            "5190cb817f354fe2903a7478bacec582",
            "1b124b414d6b47ff839277da8987db97",
            "07f451b7dd5a4bd786a42817fb0133ec",
            "c2611702e0fd451bbcfd9f03c1968cdb",
            "4af311e3f3d541368f5a4eeff9f70dbd",
            "ad3ffbd5501541aa97aab70f267d5326",
            "11de742f3e7541b29a7039b87f10f123",
            "7df10ad4721b476a963771de97b3c58f"
          ]
        },
        "id": "eeAOVN3ng89y",
        "outputId": "aed74cab-4cd0-4197-828c-d3f12a7e4565"
      },
      "source": [
        "import torch\r\n",
        "import torchvision\r\n",
        "model = torchvision.models.resnet18(pretrained=True)\r\n",
        "data = torch.rand(1, 3, 64, 64)\r\n",
        "labels = torch.rand(1, 1000)"
      ],
      "execution_count": 11,
      "outputs": [
        {
          "output_type": "stream",
          "text": [
            "Downloading: \"https://download.pytorch.org/models/resnet18-5c106cde.pth\" to /root/.cache/torch/hub/checkpoints/resnet18-5c106cde.pth\n"
          ],
          "name": "stderr"
        },
        {
          "output_type": "display_data",
          "data": {
            "application/vnd.jupyter.widget-view+json": {
              "model_id": "5190cb817f354fe2903a7478bacec582",
              "version_minor": 0,
              "version_major": 2
            },
            "text/plain": [
              "HBox(children=(FloatProgress(value=0.0, max=46827520.0), HTML(value='')))"
            ]
          },
          "metadata": {
            "tags": []
          }
        },
        {
          "output_type": "stream",
          "text": [
            "\n"
          ],
          "name": "stdout"
        }
      ]
    },
    {
      "cell_type": "markdown",
      "metadata": {
        "id": "sjH2rQXHhZEK"
      },
      "source": [
        "* Next, we run the input data through the model through each of its layers to make a prediction. This is the forward pass."
      ]
    },
    {
      "cell_type": "code",
      "metadata": {
        "colab": {
          "base_uri": "https://localhost:8080/"
        },
        "id": "1L_3qTfphOQa",
        "outputId": "4e5f6d49-ef80-419d-927e-577ff3b42279"
      },
      "source": [
        "prediction = model(data) # forward pass\r\n",
        "print(prediction[0, :5])"
      ],
      "execution_count": 12,
      "outputs": [
        {
          "output_type": "stream",
          "text": [
            "tensor([-0.1957, -0.5060, -0.5077, -1.5988, -0.7027], grad_fn=<SliceBackward>)\n"
          ],
          "name": "stdout"
        }
      ]
    },
    {
      "cell_type": "markdown",
      "metadata": {
        "id": "UVsW-t3thn0q"
      },
      "source": [
        "* We use the model’s prediction and the corresponding label to calculate the error (loss). The next step is to backpropagate this error through the network. *Backward propagation* is kicked off when we call *.backward()* on the error tensor. *Autograd* then calculates and stores the gradients for each model parameter in the parameter’s .grad attribute."
      ]
    },
    {
      "cell_type": "code",
      "metadata": {
        "id": "x55z-uothdHS"
      },
      "source": [
        "loss = (prediction - labels).sum()\r\n",
        "loss.backward() # Nani kore!"
      ],
      "execution_count": 13,
      "outputs": []
    },
    {
      "cell_type": "markdown",
      "metadata": {
        "id": "ZzhR7VYsju0j"
      },
      "source": [
        "* Next, we load an optimizer, in this case SGD with a learning rate of 0.01 and momentum of 0.9. We register all the parameters of the model in the optimizer."
      ]
    },
    {
      "cell_type": "code",
      "metadata": {
        "id": "1ScnTa8whber"
      },
      "source": [
        "optim = torch.optim.SGD(model.parameters(), lr=1e-2, momentum=0.9)"
      ],
      "execution_count": 14,
      "outputs": []
    },
    {
      "cell_type": "markdown",
      "metadata": {
        "id": "FSGKkckMj2D7"
      },
      "source": [
        "* Finally, we call *.step()* to initiate gradient descent. The optimizer adjusts each parameter by its gradient stored in .grad."
      ]
    },
    {
      "cell_type": "code",
      "metadata": {
        "id": "_ZYi7CHMjeVu"
      },
      "source": [
        "optim.step() #gradient descent"
      ],
      "execution_count": 15,
      "outputs": []
    },
    {
      "cell_type": "markdown",
      "metadata": {
        "id": "N_ej11uwkLkS"
      },
      "source": [
        "* At this point, you have everything you need to train your neural network. The below sections detail the workings of autograd - feel free to skip them."
      ]
    },
    {
      "cell_type": "markdown",
      "metadata": {
        "id": "AJb5Sjkuv4Fu"
      },
      "source": [
        "# Differentiation in Autograd"
      ]
    },
    {
      "cell_type": "markdown",
      "metadata": {
        "id": "_gpfu1-KwHpM"
      },
      "source": [
        "* Let’s take a look at how *autograd* collects *gradients*. We create two tensors *a* and *b* with *requires_grad=True*. This signals to *autograd* that every operation on them should be tracked."
      ]
    },
    {
      "cell_type": "code",
      "metadata": {
        "id": "MoKU4IJzv7zd"
      },
      "source": [
        "import torch\r\n",
        "a = torch.tensor([2., 3.], requires_grad=True) # requires_grad default is False\r\n",
        "b = torch.tensor([6., 4.], requires_grad=True)"
      ],
      "execution_count": 16,
      "outputs": []
    },
    {
      "cell_type": "markdown",
      "metadata": {
        "id": "1WpHOGjswqqu"
      },
      "source": [
        "* We create another tensor *Q* from *a* and *b*\r\n",
        "\r\n",
        ">> $Q = 3a^3-b^2$"
      ]
    },
    {
      "cell_type": "code",
      "metadata": {
        "id": "WbCc3nfuwqJn"
      },
      "source": [
        "Q = 3*a**3 - b**2"
      ],
      "execution_count": 17,
      "outputs": []
    },
    {
      "cell_type": "markdown",
      "metadata": {
        "id": "L-lANoVAxLuY"
      },
      "source": [
        "** w.r.t : with respect to\r\n",
        "* Let’s assume *a* and *b* to be parameters of an NN, and *Q* to be the *error*. In NN training, we want gradients of the error *w.r.t.* parameters, i.e.\r\n",
        "\r\n",
        ">> $\\frac{\\partial Q}{\\partial a} = 9a^2$\r\n",
        "\r\n",
        ">> $\\frac{\\partial Q}{\\partial b} = -2b$\r\n",
        "\r\n",
        "* When we call .backward() on *Q*, *autograd* calculates these gradients ($\\frac{\\partial Q}{\\partial a}, \\frac{\\partial Q}{\\partial b}$) and stores them in the respective tensors’ .grad attribute.\r\n",
        "\r\n",
        "* We need to ***explicitly*** pass a gradient argument in *Q.backward()* because it is a vector. gradient is a tensor of the same shape as Q, and it represents the gradient of Q w.r.t. itself, i.e.\r\n",
        "\r\n",
        ">> $\\frac{\\partial Q}{\\partial Q} = 1$\r\n",
        "\r\n",
        "* Equivalently, we can also aggregate *Q* into a scalar and call backward implicitly, like Q.sum().backward()."
      ]
    },
    {
      "cell_type": "code",
      "metadata": {
        "id": "jwJMBfBXxdYW"
      },
      "source": [
        "external_grad = torch.tensor([1., 1.])\r\n",
        "Q.backward(gradient=external_grad)"
      ],
      "execution_count": 18,
      "outputs": []
    },
    {
      "cell_type": "markdown",
      "metadata": {
        "id": "zHHsVmUD1yqn"
      },
      "source": [
        "* Gradients are now deposited in *a.grad* and *b.grad*"
      ]
    },
    {
      "cell_type": "code",
      "metadata": {
        "colab": {
          "base_uri": "https://localhost:8080/"
        },
        "id": "MuNwvUQ_xKog",
        "outputId": "3cc1a6e2-cc3c-491a-d270-330d0cc888c6"
      },
      "source": [
        "# Check if collected gradients are correct\r\n",
        "print(9*a**2, a.grad)\r\n",
        "print(-2*b, b.grad)"
      ],
      "execution_count": 19,
      "outputs": [
        {
          "output_type": "stream",
          "text": [
            "tensor([36., 81.], grad_fn=<MulBackward0>) tensor([36., 81.])\n",
            "tensor([-12.,  -8.], grad_fn=<MulBackward0>) tensor([-12.,  -8.])\n"
          ],
          "name": "stdout"
        }
      ]
    },
    {
      "cell_type": "markdown",
      "metadata": {
        "id": "xtqj_DBv6TUA"
      },
      "source": [
        "# Optional Reading - Vector Calculus using autograd"
      ]
    },
    {
      "cell_type": "markdown",
      "metadata": {
        "id": "PQRW75aE6gMJ"
      },
      "source": [
        "* Mathematically, if you have a vector valued function $\\vec{y}=f(\\vec{x})$, then the gradient of $\\vec{y}$ with respect to $\\vec{x}$ is a Jacobian matrix $J$:\r\n",
        "\r\n",
        ">$\\begin{split}J\r\n",
        "=\r\n",
        " \\left(\\begin{array}{cc}\r\n",
        " \\frac{\\partial \\bf{y}}{\\partial x_{1}} &\r\n",
        " ... &\r\n",
        " \\frac{\\partial \\bf{y}}{\\partial x_{n}}\r\n",
        " \\end{array}\\right)\r\n",
        "=\r\n",
        "\\left(\\begin{array}{ccc}\r\n",
        " \\frac{\\partial y_{1}}{\\partial x_{1}} & \\cdots & \\frac{\\partial y_{1}}{\\partial x_{n}}\\\\\r\n",
        " \\vdots & \\ddots & \\vdots\\\\\r\n",
        " \\frac{\\partial y_{m}}{\\partial x_{1}} & \\cdots & \\frac{\\partial y_{m}}{\\partial x_{n}}\r\n",
        " \\end{array}\\right)\\end{split}$\r\n",
        "\r\n",
        " * Generally speaking, *torch.autograd* is an engine for computing vector-Jacobian product. That is, **given** any vector $\\vec{v}$, compute the product $J^{T}\\cdot \\vec{v}$.\r\n",
        "\r\n",
        " * If $\\vec{v}$ happens to be the gradient of a scalar function:\r\n",
        "\r\n",
        "> $l\r\n",
        "=\r\n",
        "g\\left(\\vec{y}\\right)\r\n",
        "=\r\n",
        "\\left(\\begin{array}{ccc}\\frac{\\partial l}{\\partial y_{1}} & \\cdots & \\frac{\\partial l}{\\partial y_{m}}\\end{array}\\right)^{T}$\r\n",
        "\r\n",
        "* then by the chain rule, the vector-Jacobian product would be the gradient of $\\vec(l)$ with respect to $\\vec{x}$:\r\n",
        "\r\n",
        "> $\\begin{split}J^{T}\\cdot \\vec{v}=\\left(\\begin{array}{ccc}\r\n",
        " \\frac{\\partial y_{1}}{\\partial x_{1}} & \\cdots & \\frac{\\partial y_{m}}{\\partial x_{1}}\\\\\r\n",
        " \\vdots & \\ddots & \\vdots\\\\\r\n",
        " \\frac{\\partial y_{1}}{\\partial x_{n}} & \\cdots & \\frac{\\partial y_{m}}{\\partial x_{n}}\r\n",
        " \\end{array}\\right)\\left(\\begin{array}{c}\r\n",
        " \\frac{\\partial l}{\\partial y_{1}}\\\\\r\n",
        " \\vdots\\\\\r\n",
        " \\frac{\\partial l}{\\partial y_{m}}\r\n",
        " \\end{array}\\right)=\\left(\\begin{array}{c}\r\n",
        " \\frac{\\partial l}{\\partial x_{1}}\\\\\r\n",
        " \\vdots\\\\\r\n",
        " \\frac{\\partial l}{\\partial x_{n}}\r\n",
        " \\end{array}\\right)\\end{split}$\r\n",
        " \r\n",
        "* **This characteristic of vector-Jacobian product is what we use in the above example; external_grad represents $\\vec{v}$.**"
      ]
    },
    {
      "cell_type": "markdown",
      "metadata": {
        "id": "4x1MUovezpUO"
      },
      "source": [
        "# Computational Graph\r\n"
      ]
    },
    {
      "cell_type": "markdown",
      "metadata": {
        "id": "G6QQ3gqTztna"
      },
      "source": [
        "* Conceptually, *autograd* keeps a record of data (tensors) & all executed operations (along with the resulting new tensors) in a directed acyclic graph (DAG) consisting of Function objects. In this DAG, leaves are the input tensors, roots are the output tensors. By tracing this graph from roots to leaves, you can automatically compute the gradients using the chain rule.\r\n",
        "\r\n",
        "* In a forward pass, autograd does two things simultaneously:\r\n",
        "> 1. run the requested operation to compute a resulting tensor, and\r\n",
        "> 2. maintain the operation’s gradient function in the DAG.\r\n",
        "\r\n",
        "* The backward pass kicks off when *.backward()* is called on the DAG root. *autograd* then:\r\n",
        "> 1. computes the gradients from each *.grad_fn*,\r\n",
        "> 2. accumulates them in the respective tensor’s *.grad* attribute, and\r\n",
        "> 3. using the chain rule, propagates all the way to the leaf tensors.\r\n",
        "\r\n",
        "* Below is a visual representation of the DAG in our example. In the graph, the arrows are in the direction of the forward pass. The nodes represent the backward functions of each operation in the forward pass. The leaf nodes in blue represent our leaf tensors *a* and *b*.\r\n",
        "\r\n",
        "![dag_autograd.png](data:image/png;base64,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)\r\n",
        "\r\n",
        "* **DAGs are dynamic in PyTorch An important thing to note is that the graph is recreated from scratch; after each .backward() call, autograd starts populating a new graph. This is exactly what allows you to use control flow statements in your model; you can change the shape, size and operations at every iteration if needed.**\r\n",
        "\r\n"
      ]
    },
    {
      "cell_type": "markdown",
      "metadata": {
        "id": "Wfa8Y19t2TDF"
      },
      "source": [
        "# Exclusion from the DAG\r\n"
      ]
    },
    {
      "cell_type": "markdown",
      "metadata": {
        "id": "ZXxHWkS-2Tyj"
      },
      "source": [
        "* *torch.autograd* tracks operations on all tensors which have their *requires_grad* flag set to *True*. For tensors that don’t require gradients, setting this attribute to *False* excludes it from the gradient computation DAG.\r\n",
        "\r\n",
        "* **The output tensor of an operation will require gradients even if only a single input tensor has *requires_grad=True*.**"
      ]
    },
    {
      "cell_type": "code",
      "metadata": {
        "colab": {
          "base_uri": "https://localhost:8080/"
        },
        "id": "GJZsUMni24wZ",
        "outputId": "b6485958-f173-48f6-8184-46fbad07198f"
      },
      "source": [
        "x = torch.rand(5, 5)\r\n",
        "y = torch.rand(5, 5)\r\n",
        "z = torch.rand((5, 5), requires_grad=True)\r\n",
        "\r\n",
        "a = x + y\r\n",
        "print(f\"Does `a` require gradients? : {a.requires_grad}\")\r\n",
        "b = x + z\r\n",
        "print(f\"Does `b` require gradients?: {b.requires_grad}\")"
      ],
      "execution_count": 20,
      "outputs": [
        {
          "output_type": "stream",
          "text": [
            "Does `a` require gradients? : False\n",
            "Does `b` require gradients?: True\n"
          ],
          "name": "stdout"
        }
      ]
    },
    {
      "cell_type": "markdown",
      "metadata": {
        "id": "nqshoQNI27a5"
      },
      "source": [
        "* In a NN, parameters that don’t compute gradients are usually called frozen parameters. **It is useful to “freeze” part of your model if you know in advance that you won’t need the gradients of those parameters (this offers some performance benefits by reducing autograd computations).**\r\n",
        "\r\n",
        "* Another common usecase where exclusion from the DAG is important is for [finetuning a pretrained network](https://pytorch.org/tutorials/beginner/finetuning_torchvision_models_tutorial.html).\r\n",
        "\r\n",
        "* In finetuning, we freeze most of the model and typically only modify the classifier layers to make predictions on new labels. Let’s walk through a small example to demonstrate this. As before, we load a pretrained resnet18 model, and freeze all the parameters.\r\n"
      ]
    },
    {
      "cell_type": "code",
      "metadata": {
        "id": "WdXwqnzl208Q"
      },
      "source": [
        "from torch import nn, optim\r\n",
        "\r\n",
        "model = torchvision.models.resnet18(pretrained=True)\r\n",
        "\r\n",
        "# Freeze all the parameters in the network\r\n",
        "for param in model.parameters():\r\n",
        "    param.requires_grad = False"
      ],
      "execution_count": 21,
      "outputs": []
    },
    {
      "cell_type": "markdown",
      "metadata": {
        "id": "3tDrMN0Y38xE"
      },
      "source": [
        "* Let’s say we want to finetune the model on a new dataset with 10 labels. In resnet, the classifier is the last linear layer model.fc. We can simply replace it with a new linear layer (unfrozen by default) that acts as our classifier."
      ]
    },
    {
      "cell_type": "code",
      "metadata": {
        "id": "kNV8X4mg30mN"
      },
      "source": [
        "model.fc = nn.Linear(512, 10)"
      ],
      "execution_count": 26,
      "outputs": []
    },
    {
      "cell_type": "markdown",
      "metadata": {
        "id": "dLVGYaQU4LZV"
      },
      "source": [
        "* Now all parameters in the model, except the parameters of model.fc, are frozen. The only parameters that compute gradients are the weights and bias of model.fc.\r\n",
        "\r\n"
      ]
    },
    {
      "cell_type": "code",
      "metadata": {
        "id": "T81iSFK04EAO"
      },
      "source": [
        "# Optimize only the classifier\r\n",
        "optimizer = optim.SGD(model.fc.parameters(), lr=1e-2, momentum=0.9)"
      ],
      "execution_count": 27,
      "outputs": []
    },
    {
      "cell_type": "markdown",
      "metadata": {
        "id": "SDbMoQ1I4Tjy"
      },
      "source": [
        "* **Notice although we register all the parameters in the optimizer, the only parameters that are computing gradients (and hence updated in gradient descent) are the weights and bias of the classifier.**\r\n",
        "\r\n"
      ]
    },
    {
      "cell_type": "markdown",
      "metadata": {
        "id": "_ibAEjCy4ebL"
      },
      "source": [
        "* The same exclusionary functionality is available as a context manager in [torch.no_grad()](https://pytorch.org/docs/stable/generated/torch.no_grad.html)\r\n",
        "\r\n"
      ]
    }
  ]
}